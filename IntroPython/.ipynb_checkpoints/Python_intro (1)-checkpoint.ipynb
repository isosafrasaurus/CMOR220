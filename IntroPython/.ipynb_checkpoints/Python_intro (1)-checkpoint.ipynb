{
 "cells": [
  {
   "cell_type": "code",
   "execution_count": 1,
   "metadata": {},
   "outputs": [
    {
     "name": "stdout",
     "output_type": "stream",
     "text": [
      "10\n"
     ]
    }
   ],
   "source": [
    "foo = 10\n",
    "print(foo)"
   ]
  },
  {
   "cell_type": "code",
   "execution_count": 2,
   "metadata": {},
   "outputs": [
    {
     "name": "stdout",
     "output_type": "stream",
     "text": [
      "123\n"
     ]
    }
   ],
   "source": [
    "x = 123 # integer\n",
    "print(x)"
   ]
  },
  {
   "cell_type": "code",
   "execution_count": 3,
   "metadata": {},
   "outputs": [
    {
     "name": "stdout",
     "output_type": "stream",
     "text": [
      "3.14\n"
     ]
    }
   ],
   "source": [
    "x = 3.14 # double float\n",
    "print(x)"
   ]
  },
  {
   "cell_type": "code",
   "execution_count": 4,
   "metadata": {},
   "outputs": [
    {
     "name": "stdout",
     "output_type": "stream",
     "text": [
      "hello\n"
     ]
    }
   ],
   "source": [
    "x = \"hello\" # string\n",
    "print(x)"
   ]
  },
  {
   "cell_type": "code",
   "execution_count": 5,
   "metadata": {},
   "outputs": [
    {
     "name": "stdout",
     "output_type": "stream",
     "text": [
      "[0, 1, 2]\n"
     ]
    }
   ],
   "source": [
    "x = [0,1,2] # list\n",
    "print(x)"
   ]
  },
  {
   "cell_type": "code",
   "execution_count": 6,
   "metadata": {},
   "outputs": [
    {
     "name": "stdout",
     "output_type": "stream",
     "text": [
      "(0, 1, 2)\n"
     ]
    }
   ],
   "source": [
    "x = (0,1,2) # tuple\n",
    "print(x)"
   ]
  },
  {
   "cell_type": "code",
   "execution_count": 7,
   "metadata": {},
   "outputs": [
    {
     "name": "stdout",
     "output_type": "stream",
     "text": [
      "<_io.TextIOWrapper name='/Users/anastasiyaprotasov/Downloads/encodedtext.txt' mode='r' encoding='UTF-8'>\n",
      "pspgqdzbxpqxioujcpgdqcapgpqarspqr`wredqmppbqnaidcdqzbqcapqorxazbpqgrbyioqdpnopbcdqivqxiypqcarcqarspqngijupyqcinpcapgqciqvigoqjbpkupxcpyqugicixi`dqjbrbczxzurcpyqcapdpqvgppqgryzxr`dqpbnpbypgqljpdczibdqivqvgppqwz``qxgprczszceqrbyqpspbqcapqbrcjgpqivqwarcqwpqoznacqxr``qcapqdij`qwaeqzdqzcqcarcqwapbqdiopqgimicdqrgpq`pvcqzbqyrgfbpddqcapeqwz``qdppfqijcqcapq`znacqwaeqzdqzcqcarcqwapbqgimicdqrgpqdcigpyqzbqrbqpouceqdurxpqcapeqwz``qngijuqcinpcapgqgrcapgqcarbqdcrbyqr`ibpqaiwqyiqwpqpku`rzbqcazdqmparszigqgrbyioqdpnopbcdqivqxiypqigqzdqzcqdiopcazbnqoigpqwapbqyipdqrqupgxpucjr`qdxaporczxqmpxiopqxibdxzijdbpddqwapbqyipdqrqyzvvpgpbxpqpbnzbpqmpxiopqcapqdprgxaqvigqcgjcaqwapbqyipdqrqupgdibr`zceqdzoj`rczibqmpxiopqcapqmzccpgqoicpqivqrqdij`\n"
     ]
    }
   ],
   "source": [
    "x = open(\"/Users/anastasiyaprotasov/Downloads/encodedtext.txt\", \"r\") # file\n",
    "print(x)\n",
    "print(x.read())"
   ]
  },
  {
   "cell_type": "code",
   "execution_count": 8,
   "metadata": {},
   "outputs": [
    {
     "name": "stdout",
     "output_type": "stream",
     "text": [
      "1.2\n",
      "The area is: \n",
      "2.64\n"
     ]
    },
    {
     "data": {
      "text/plain": [
       "(None, None)"
      ]
     },
     "execution_count": 8,
     "metadata": {},
     "output_type": "execute_result"
    }
   ],
   "source": [
    "#You can also assign a single value to several variables simultaneously multiple \n",
    "#assignments.\n",
    "\n",
    "#Variable a,b and c are assigned to the same memory location,with the value of 1\n",
    "a = b = c = 1\n",
    "#Example\n",
    "\n",
    "length = 1.2\n",
    "width  = 2.2\n",
    "area   = length * width\n",
    "\n",
    "print(length)\n",
    "print(\"The area is: \") , print(area)"
   ]
  },
  {
   "cell_type": "code",
   "execution_count": null,
   "metadata": {},
   "outputs": [],
   "source": [
    "#Use [ ] to access characters in a string:\n",
    "word = \"computer\"\n",
    "letter = word[0]\n",
    "print(letter)\n",
    "\n",
    "#Use [ # :#] to get set of letters\n",
    "word= word[0:3]\n",
    "print(word)\n",
    "\n",
    "#To pick starting from the end:\n",
    "print(word[-1])"
   ]
  },
  {
   "cell_type": "code",
   "execution_count": null,
   "metadata": {},
   "outputs": [],
   "source": [
    "#To see what the return value (True or False) will be, simply print it out.\t\n",
    "\n",
    "my_string=\"Hello World\"\n",
    "\n",
    "print(my_string.isalnum())#False\n",
    "print(my_string.isalpha())#False\n",
    "print(my_string.isdigit())#False\n",
    "print(my_string.istitle())#True\n",
    "print(my_string.isupper())#False\n",
    "print(my_string.islower())#False\n",
    "print(my_string.isspace())#False\n",
    "print(my_string.endswith('d'))#True\n",
    "print(my_string.startswith('H'))#True"
   ]
  },
  {
   "cell_type": "code",
   "execution_count": 15,
   "metadata": {},
   "outputs": [
    {
     "name": "stdout",
     "output_type": "stream",
     "text": [
      "0\n",
      "1\n",
      "2\n",
      "3\n",
      "4\n",
      "5\n",
      "6\n",
      "7\n",
      "8\n",
      "9\n"
     ]
    }
   ],
   "source": [
    "i = 0\n",
    "while i < 10:    \n",
    "    print(i)\n",
    "    i = i + 1\n",
    "    "
   ]
  },
  {
   "cell_type": "code",
   "execution_count": 16,
   "metadata": {},
   "outputs": [
    {
     "name": "stdout",
     "output_type": "stream",
     "text": [
      "Safari\n",
      "Firefox\n",
      "Google Chrome\n",
      "Opera\n",
      "IE\n"
     ]
    }
   ],
   "source": [
    "browsers = [\"Safari\", \"Firefox\", \"Google Chrome\", \"Opera\", \"IE\"]\n",
    "for browser in browsers:\n",
    "    print(browser)"
   ]
  },
  {
   "cell_type": "code",
   "execution_count": 17,
   "metadata": {},
   "outputs": [
    {
     "name": "stdout",
     "output_type": "stream",
     "text": [
      "c\n",
      "o\n",
      "m\n",
      "p\n",
      "u\n",
      "t\n",
      "e\n",
      "r\n"
     ]
    }
   ],
   "source": [
    "word = \"computer\"\n",
    "for letter in word:\n",
    "    print(letter)"
   ]
  },
  {
   "cell_type": "code",
   "execution_count": 18,
   "metadata": {},
   "outputs": [
    {
     "name": "stdout",
     "output_type": "stream",
     "text": [
      "0\n",
      "1\n",
      "2\n",
      "3\n",
      "4\n"
     ]
    }
   ],
   "source": [
    "for number in range(0,5): \n",
    "    print(number)"
   ]
  },
  {
   "cell_type": "code",
   "execution_count": null,
   "metadata": {},
   "outputs": [],
   "source": [
    "a = range(1, 10) \n",
    "for i in a: \n",
    "    print(i)"
   ]
  },
  {
   "cell_type": "code",
   "execution_count": null,
   "metadata": {},
   "outputs": [],
   "source": [
    "for a in range(21,-1,-2):\n",
    "   print(a),\n"
   ]
  },
  {
   "cell_type": "code",
   "execution_count": 31,
   "metadata": {},
   "outputs": [],
   "source": [
    "def printNum(num):\n",
    "    if num>=0:\n",
    "        y = num\n",
    "    else:\n",
    "        y = -num\n",
    "    return y    "
   ]
  },
  {
   "cell_type": "code",
   "execution_count": 32,
   "metadata": {},
   "outputs": [
    {
     "data": {
      "text/plain": [
       "3"
      ]
     },
     "execution_count": 32,
     "metadata": {},
     "output_type": "execute_result"
    }
   ],
   "source": [
    "printNum(3)"
   ]
  },
  {
   "cell_type": "code",
   "execution_count": null,
   "metadata": {},
   "outputs": [],
   "source": [
    "def even(number):        \n",
    "    if number % 2 == 0:\n",
    "        return True\n",
    "   \n",
    "    else:\n",
    "        return False\n",
    "\n",
    "print(even(10))"
   ]
  },
  {
   "cell_type": "code",
   "execution_count": 33,
   "metadata": {},
   "outputs": [],
   "source": [
    "import numpy as np\n",
    "def sqrt(num):\n",
    "    if num < 0:\n",
    "        return np.sqrt(-num)\n",
    "    else:\n",
    "        return np.sqrt(num)"
   ]
  },
  {
   "cell_type": "code",
   "execution_count": 35,
   "metadata": {},
   "outputs": [
    {
     "data": {
      "text/plain": [
       "2.0"
      ]
     },
     "execution_count": 35,
     "metadata": {},
     "output_type": "execute_result"
    }
   ],
   "source": [
    "sqrt(-4)"
   ]
  },
  {
   "cell_type": "code",
   "execution_count": 36,
   "metadata": {},
   "outputs": [],
   "source": [
    "import numpy as np"
   ]
  },
  {
   "cell_type": "code",
   "execution_count": 38,
   "metadata": {},
   "outputs": [],
   "source": [
    "A=np.array([[2,3,4],[3,4,5]])"
   ]
  },
  {
   "cell_type": "code",
   "execution_count": 40,
   "metadata": {},
   "outputs": [
    {
     "data": {
      "text/plain": [
       "6"
      ]
     },
     "execution_count": 40,
     "metadata": {},
     "output_type": "execute_result"
    }
   ],
   "source": [
    "A.size"
   ]
  },
  {
   "cell_type": "code",
   "execution_count": 41,
   "metadata": {},
   "outputs": [
    {
     "data": {
      "text/plain": [
       "(2, 3)"
      ]
     },
     "execution_count": 41,
     "metadata": {},
     "output_type": "execute_result"
    }
   ],
   "source": [
    "A.shape"
   ]
  },
  {
   "cell_type": "code",
   "execution_count": 43,
   "metadata": {},
   "outputs": [
    {
     "data": {
      "text/plain": [
       "2"
      ]
     },
     "execution_count": 43,
     "metadata": {},
     "output_type": "execute_result"
    }
   ],
   "source": [
    "A.ndim"
   ]
  },
  {
   "cell_type": "code",
   "execution_count": null,
   "metadata": {},
   "outputs": [],
   "source": []
  }
 ],
 "metadata": {
  "kernelspec": {
   "display_name": "Python 3",
   "language": "python",
   "name": "python3"
  },
  "language_info": {
   "codemirror_mode": {
    "name": "ipython",
    "version": 3
   },
   "file_extension": ".py",
   "mimetype": "text/x-python",
   "name": "python",
   "nbconvert_exporter": "python",
   "pygments_lexer": "ipython3",
   "version": "3.8.5"
  }
 },
 "nbformat": 4,
 "nbformat_minor": 4
}
