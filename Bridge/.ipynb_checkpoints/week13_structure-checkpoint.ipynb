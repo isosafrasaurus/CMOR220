{
 "cells": [
  {
   "cell_type": "code",
   "execution_count": 1,
   "metadata": {},
   "outputs": [],
   "source": [
    "#Anastasiya Protasov, CMOR220, Fall 2023, Bridge structure\n",
    "#week13_structure.ipynb\n",
    "#Script to see bridge structure\n",
    "#Last Modified: November 15, 2023"
   ]
  },
  {
   "cell_type": "code",
   "execution_count": null,
   "metadata": {},
   "outputs": [],
   "source": [
    "import matplotlib.pyplot as plt\n",
    "import numpy as np"
   ]
  },
  {
   "cell_type": "code",
   "execution_count": null,
   "metadata": {},
   "outputs": [],
   "source": [
    "def build_basic_bridge(nos):\n",
    "     \"\"\"\n",
    "    Inputs:\n",
    "        - nos, (integer) the number of sections in the bridge\n",
    "    Outputs:\n",
    "        - adj, (np.ndarray) the adjacency matrix of the bridge\n",
    "        - xc, (np.ndarray) the x-coords of the bridge fibers\n",
    "        - yc, (np.ndarray) the y-coords of the bridge fibers\n",
    "        - len, (np.ndarray) the lengths of each bridge fiber\n",
    "     \"\"\"\n",
    "\n",
    "    return adj, xc, yc, length"
   ]
  },
  {
   "cell_type": "code",
   "execution_count": null,
   "metadata": {},
   "outputs": [],
   "source": [
    "def construct_force_vector(nos, car_weight):\n",
    "    \"\"\"\n",
    "    Inputs:\n",
    "        - nos, (integer) the number of sections in the bridge\n",
    "        - car_weight, (float) the car weight\n",
    "    Outputs:\n",
    "        - force, (np.ndarray) the force vector\n",
    "    \"\"\"\n",
    "    return force"
   ]
  },
  {
   "cell_type": "code",
   "execution_count": null,
   "metadata": {},
   "outputs": [],
   "source": [
    "def deform_basic_bridge(nos, adj, xc, yc, length, force):\n",
    "    \"\"\"\n",
    "    Inputs:\n",
    "        - nos, (integer) the number of sections in the bridge\n",
    "        - adj, (np.matrix) the adjacency matrix of the bridge\n",
    "        - xc, (np.ndarray) the x-coords of the bridge fibers\n",
    "        - yc, (np.ndarray) the y-coords of the bridge fibers\n",
    "        - len, (np.ndarray) the lengths of each bridge fiber\n",
    "        - force, (np.ndarray) the weight of the car on the bridge\n",
    "    Outputs:\n",
    "        - dx, (np.ndarray) the new x-coords of the bridge fibers\n",
    "        - dy, (np.ndarray) the new y-coords of the bridge fibers\n",
    "        - work, (integer) measures how the bridge has deformed\n",
    "        - X, (np.ndarray) the horizontal displacement of each node\n",
    "        - Y, (np.ndarray) the vertical displacement of each node\n",
    "    \"\"\"\n",
    "    return dx, dy, work, X, Y"
   ]
  },
  {
   "cell_type": "code",
   "execution_count": null,
   "metadata": {},
   "outputs": [],
   "source": [
    "def plot_spy(nos, adj):\n",
    "    \"\"\"\n",
    "    Plots the sparsity pattern of the adjacency matrix.\n",
    "    Input:\n",
    "        - nos, (integer) the number of sections in the bridge\n",
    "        - adj, (np.ndarray) adjacency matrix of the bridge\n",
    "    Output: None\n",
    "    \"\"\"\n",
    "\n",
    "def plot_bridge(nos, xc, yc, car_weight=0, work=0):\n",
    "    \"\"\"\n",
    "    Plots a bridge.\n",
    "    Input:\n",
    "        - nos, (integer) the number of sections in the bridge\n",
    "        - xc, (np.ndarray) the x-coords of the bridge fibers\n",
    "        - yc, (np.ndarray) the y-coords of the bridge fibers\n",
    "        - car_weight, (integer) weight of car on bridge\n",
    "        - work, (integer) work done on the bridge\n",
    "    Output: None\n",
    "    \"\"\""
   ]
  },
  {
   "cell_type": "code",
   "execution_count": null,
   "metadata": {},
   "outputs": [],
   "source": [
    "def build_load_plot_basic_bridge(nos):\n",
    "    \"\"\"\n",
    "    This function invokes build_basic_bridge, deform_basic_bridge, \n",
    "    plot_bridge, and plot_spy to build, deform, and plot the bridge as\n",
    "    well as its corresponding adjacency matrix.\n",
    "    Input:\n",
    "        - nos, (integer) the number of sections in the bridge\n",
    "    Output: None\n",
    "    \"\"\""
   ]
  }
 ],
 "metadata": {
  "kernelspec": {
   "display_name": "Python 3 (ipykernel)",
   "language": "python",
   "name": "python3"
  },
  "language_info": {
   "codemirror_mode": {
    "name": "ipython",
    "version": 3
   },
   "file_extension": ".py",
   "mimetype": "text/x-python",
   "name": "python",
   "nbconvert_exporter": "python",
   "pygments_lexer": "ipython3",
   "version": "3.11.4"
  }
 },
 "nbformat": 4,
 "nbformat_minor": 4
}
