{
 "cells": [
  {
   "cell_type": "code",
   "execution_count": 1,
   "metadata": {
    "tags": []
   },
   "outputs": [],
   "source": [
    "#Anastasiya Protasov, CAAM 210, Summer 2023, 1 section bridge plot without diagonal fibers\n",
    "#week7_example_bridge.ipynb\n",
    "#how to do the plot of 1 section bridge\n",
    "#Last Modified: July 27, 2023"
   ]
  },
  {
   "cell_type": "code",
   "execution_count": 2,
   "metadata": {
    "tags": []
   },
   "outputs": [],
   "source": [
    "import math\n",
    "import matplotlib.pyplot as plt\n",
    "import numpy as np"
   ]
  },
  {
   "cell_type": "code",
   "execution_count": 3,
   "metadata": {
    "tags": []
   },
   "outputs": [],
   "source": [
    "def build_basic_bridge():\n",
    "    \"\"\"\n",
    "    Outputs:\n",
    "        - adj, (np.ndarray) the adjacency matrix of the bridge\n",
    "        - xc, (np.ndarray) the x-coords of the bridge fibers\n",
    "        - yc, (np.ndarray) the y-coords of the bridge fibers\n",
    "        - len, (np.ndarray) the lengths of each bridge fiber\n",
    "    \"\"\"\n",
    "    num_nodes = 4\n",
    "    num_fibers = 8\n",
    "    s = 1/math.sqrt(2)\n",
    "    \n",
    "    adj = np.zeros((num_fibers, 2*num_nodes))\n",
    "    xc = np.zeros((num_fibers, 2))\n",
    "    yc = np.zeros((num_fibers, 2))\n",
    "    length = np.ones(num_fibers)\n",
    "   \n",
    "\n",
    "    # Build the left part of bridge.\n",
    "    adj[0,0] = 1\n",
    "    adj[1,2:4] = [s, s]\n",
    "    xc[0] = [0, 1]\n",
    "    yc[0] = [0, 0]\n",
    "    xc[1] = [0, 1]\n",
    "    yc[1] = [0, 1]\n",
    "    length[1] = 1/s\n",
    "    \n",
    "    # Build the middle part of bridge.\n",
    "    adj[2,:] = [0, -1, 0, 1, 0, 0, 0, 0]  \n",
    "    adj[3,:] = [0, 0, -1, 0, 0, 0, 1, 0] \n",
    "    adj[4,:] = [-1, 0, 0, 0, 1, 0, 0, 0] \n",
    "\n",
    "    # Add the coordinates\n",
    "    xc[2] = [1, 1] \n",
    "    yc[2] = [0, 1]  \n",
    "    xc[3] = [1, 2] \n",
    "    yc[3] = [1, 1] \n",
    "    xc[4] = [1, 2] \n",
    "    yc[4] = [0, 0] \n",
    "\n",
    "    # Build the right part of bridge.\n",
    "    adj[-3,-3:] = [-1, 0, 1] \n",
    "    adj[-2,-2:] = [-s, s] \n",
    "    adj[-1,-4]  = -1\n",
    "    \n",
    "    # Add coordinates\n",
    "    xc[-3] = [2, 2]\n",
    "    yc[-3] = [0, 1]\n",
    "    xc[-2] = [2, 3]\n",
    "    yc[-2] = [1, 0]\n",
    "    length[-2] = 1/s\n",
    "    xc[-1] = [2, 3]\n",
    "    yc[-1] = [0, 0]\n",
    "\n",
    "    return adj, xc, yc, length"
   ]
  },
  {
   "cell_type": "code",
   "execution_count": 4,
   "metadata": {
    "tags": []
   },
   "outputs": [],
   "source": [
    "def plot_bridge(xc,yc,car_weight=0,work=0):\n",
    "    plt.figure()\n",
    "    # Plot the fibers of the bridge.\n",
    "    plt.plot(np.transpose(xc), np.transpose(yc), 'b', linewidth=3);\n",
    "    # Plots the land area surrounding the bridge.\n",
    "    plt.fill([0, 0.5, -1, -1], [0, -1, -1, 0], 'k')\n",
    "    plt.fill([3, 4, 4, 2.5], [0, 0, -1, -1], 'k')\n",
    "   # plt.title(\" 1 Section Bridge when there are no cars\")\n",
    "    plt.title(f'{1} Section Bridge When Cars Weight {car_weight} Units (Work = {work:.5f})')"
   ]
  },
  {
   "cell_type": "code",
   "execution_count": 5,
   "metadata": {
    "tags": []
   },
   "outputs": [
    {
     "data": {
      "text/plain": [
       "<matplotlib.image.AxesImage at 0x1d0c15a9890>"
      ]
     },
     "execution_count": 5,
     "metadata": {},
     "output_type": "execute_result"
    },
    {
     "data": {
      "image/png": "[encoded data removed]",
      "text/plain": [
       "<Figure size 640x480 with 1 Axes>"
      ]
     },
     "metadata": {},
     "output_type": "display_data"
    }
   ],
   "source": [
    "adj, xc, yc, length = build_basic_bridge()\n",
    "plt.spy(adj)"
   ]
  },
  {
   "cell_type": "code",
   "execution_count": 6,
   "metadata": {
    "tags": []
   },
   "outputs": [],
   "source": [
    "def construct_force_vector(car_weight):\n",
    "    force = np.zeros(8)\n",
    "    for i in range(0,4,2):\n",
    "        force[2*(i+1)-1] = -car_weight\n",
    "    return force  "
   ]
  },
  {
   "cell_type": "code",
   "execution_count": null,
   "metadata": {},
   "outputs": [],
   "source": [
    "force = construct_force_vector(0.01)\n",
    "force"
   ]
  },
  {
   "cell_type": "code",
   "execution_count": null,
   "metadata": {},
   "outputs": [],
   "source": [
    "def deform_basic_bridge(adj,xc,yc,length,force):\n",
    "    dx = xc\n",
    "    dy = yc\n",
    "    matrix = np.transpose(adj)@np.diag(np.divide(1,length))@adj\n",
    "    displacements = np.linalg.solve(np.transpose(matrix)@matrix+0.001*np.eye(8),np.transpose(matrix)@force)\n",
    "    #displacements = np.linalg.solve(matrix,force)\n",
    "    X = displacements[::2]\n",
    "    Y = displacements[1::2]\n",
    "    work = np.transpose(displacements)@force\n",
    "    \n",
    "    # left\n",
    "    dx[0] += [0,X[0]]\n",
    "    dy[0] = yc[0]+[0,Y[0]]\n",
    "    dx[1] = xc[1]+[0,X[1]]\n",
    "    dy[1] = yc[1]+[0,Y[1]]\n",
    "    \n",
    "    #middle\n",
    "    dx[2] = xc[2]+[X[0],X[1]]\n",
    "    dy[2] = yc[2]+[Y[0],Y[1]]\n",
    "    dx[3] = xc[3]+[X[1],X[3]]\n",
    "    dy[3] = yc[3]+[Y[1],Y[3]]\n",
    "    dx[4] = xc[4]+[X[0],X[2]]\n",
    "    dy[4] = yc[4]+[Y[0],Y[2]]\n",
    "    \n",
    "    #right\n",
    "    dx[-3] = xc[-3]+[X[2],X[3]]\n",
    "    dy[-3] = yc[-3]+[Y[2],Y[3]]\n",
    "    dx[-2] = xc[-2]+[X[3],0]\n",
    "    dy[-2] = yc[-2]+[Y[3],0]\n",
    "    dx[-1] = xc[-1]+[X[2],0]\n",
    "    dy[-1] = yc[-1]+[Y[2],0]\n",
    "    \n",
    "    return dx,dy,work,X,Y\n",
    "\n",
    "    "
   ]
  },
  {
   "cell_type": "code",
   "execution_count": null,
   "metadata": {},
   "outputs": [],
   "source": [
    "def build_load_plot_basic_bridge():\n",
    "    \n",
    "    adj,xc,yc,length=build_basic_bridge()\n",
    "    for car_weight in [0,0.01,0.05]:\n",
    "        force = construct_force_vector(car_weight)\n",
    "        dx,dy,work,X,Y = deform_basic_bridge(adj,xc,yc,length,force)\n",
    "        plot_bridge(dx,dy,car_weight,work)"
   ]
  },
  {
   "cell_type": "code",
   "execution_count": null,
   "metadata": {},
   "outputs": [],
   "source": [
    "build_load_plot_basic_bridge()"
   ]
  },
  {
   "cell_type": "code",
   "execution_count": null,
   "metadata": {},
   "outputs": [],
   "source": [
    "adj,xc,yc,length=build_basic_bridge()\n",
    "stiffness = np.transpose(adj)@np.diag(np.divide(1,length))@adj\n",
    "np.linalg.inv(stiffness)"
   ]
  },
  {
   "cell_type": "code",
   "execution_count": null,
   "metadata": {},
   "outputs": [],
   "source": []
  }
 ],
 "metadata": {
  "kernelspec": {
   "display_name": "Python 3 (ipykernel)",
   "language": "python",
   "name": "python3"
  },
  "language_info": {
   "codemirror_mode": {
    "name": "ipython",
    "version": 3
   },
   "file_extension": ".py",
   "mimetype": "text/x-python",
   "name": "python",
   "nbconvert_exporter": "python",
   "pygments_lexer": "ipython3",
   "version": "3.11.5"
  }
 },
 "nbformat": 4,
 "nbformat_minor": 4
}
